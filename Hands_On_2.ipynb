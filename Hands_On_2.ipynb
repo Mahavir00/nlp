{
  "nbformat": 4,
  "nbformat_minor": 0,
  "metadata": {
    "kernelspec": {
      "display_name": "Python 3",
      "language": "python",
      "name": "python3"
    },
    "language_info": {
      "codemirror_mode": {
        "name": "ipython",
        "version": 3
      },
      "file_extension": ".py",
      "mimetype": "text/x-python",
      "name": "python",
      "nbconvert_exporter": "python",
      "pygments_lexer": "ipython3",
      "version": "3.7.3"
    },
    "colab": {
      "name": "Hands_On_2.ipynb",
      "provenance": []
    }
  },
  "cells": [
    {
      "cell_type": "markdown",
      "metadata": {
        "id": "nwrXXVNQMkdQ"
      },
      "source": [
        "# Imports"
      ]
    },
    {
      "cell_type": "code",
      "metadata": {
        "id": "axJRKqyOMK2I",
        "outputId": "96af5408-61bb-4464-93b7-3f0fb6351a40",
        "colab": {
          "base_uri": "https://localhost:8080/",
          "height": 118
        }
      },
      "source": [
        "import nltk\n",
        "nltk.download('stopwords')\n",
        "from nltk.corpus import stopwords\n",
        "nltk.download('cmudict')\n",
        "nltk.download('wordnet')\n",
        "from nltk.corpus import wordnet as wn\n",
        "from nltk.stem import PorterStemmer\n",
        "from nltk.stem import LancasterStemmer\n",
        "from nltk.stem import SnowballStemmer\n",
        "from nltk.stem import WordNetLemmatizer"
      ],
      "execution_count": 1,
      "outputs": [
        {
          "output_type": "stream",
          "text": [
            "[nltk_data] Downloading package stopwords to /root/nltk_data...\n",
            "[nltk_data]   Package stopwords is already up-to-date!\n",
            "[nltk_data] Downloading package cmudict to /root/nltk_data...\n",
            "[nltk_data]   Package cmudict is already up-to-date!\n",
            "[nltk_data] Downloading package wordnet to /root/nltk_data...\n",
            "[nltk_data]   Package wordnet is already up-to-date!\n"
          ],
          "name": "stdout"
        }
      ]
    },
    {
      "cell_type": "markdown",
      "metadata": {
        "id": "4w2l0cUuMsdV"
      },
      "source": [
        "<h2> Lexicon -> collection of words/Phrases + Information (POS; tense Definitions..)<br>\n",
        "Lexicon has lexical entries -> each entry is Word/Phrase -> has a HeadWord(Lemma) + information</h2>"
      ]
    },
    {
      "cell_type": "code",
      "metadata": {
        "id": "6BSnQQbtMifl",
        "outputId": "1d19436a-71f2-4725-fa31-c6a76831fcf1",
        "colab": {
          "base_uri": "https://localhost:8080/",
          "height": 54
        }
      },
      "source": [
        "stop = stopwords.words('english')\n",
        "print(len(stop), stop)"
      ],
      "execution_count": 2,
      "outputs": [
        {
          "output_type": "stream",
          "text": [
            "179 ['i', 'me', 'my', 'myself', 'we', 'our', 'ours', 'ourselves', 'you', \"you're\", \"you've\", \"you'll\", \"you'd\", 'your', 'yours', 'yourself', 'yourselves', 'he', 'him', 'his', 'himself', 'she', \"she's\", 'her', 'hers', 'herself', 'it', \"it's\", 'its', 'itself', 'they', 'them', 'their', 'theirs', 'themselves', 'what', 'which', 'who', 'whom', 'this', 'that', \"that'll\", 'these', 'those', 'am', 'is', 'are', 'was', 'were', 'be', 'been', 'being', 'have', 'has', 'had', 'having', 'do', 'does', 'did', 'doing', 'a', 'an', 'the', 'and', 'but', 'if', 'or', 'because', 'as', 'until', 'while', 'of', 'at', 'by', 'for', 'with', 'about', 'against', 'between', 'into', 'through', 'during', 'before', 'after', 'above', 'below', 'to', 'from', 'up', 'down', 'in', 'out', 'on', 'off', 'over', 'under', 'again', 'further', 'then', 'once', 'here', 'there', 'when', 'where', 'why', 'how', 'all', 'any', 'both', 'each', 'few', 'more', 'most', 'other', 'some', 'such', 'no', 'nor', 'not', 'only', 'own', 'same', 'so', 'than', 'too', 'very', 's', 't', 'can', 'will', 'just', 'don', \"don't\", 'should', \"should've\", 'now', 'd', 'll', 'm', 'o', 're', 've', 'y', 'ain', 'aren', \"aren't\", 'couldn', \"couldn't\", 'didn', \"didn't\", 'doesn', \"doesn't\", 'hadn', \"hadn't\", 'hasn', \"hasn't\", 'haven', \"haven't\", 'isn', \"isn't\", 'ma', 'mightn', \"mightn't\", 'mustn', \"mustn't\", 'needn', \"needn't\", 'shan', \"shan't\", 'shouldn', \"shouldn't\", 'wasn', \"wasn't\", 'weren', \"weren't\", 'won', \"won't\", 'wouldn', \"wouldn't\"]\n"
          ],
          "name": "stdout"
        }
      ]
    },
    {
      "cell_type": "code",
      "metadata": {
        "id": "tTNKrHKyMK2T",
        "outputId": "902d467a-07f7-4614-cd11-757ada47a61c",
        "colab": {
          "base_uri": "https://localhost:8080/",
          "height": 54
        }
      },
      "source": [
        "stop = stopwords.words('french')\n",
        "print(len(stop), stop)"
      ],
      "execution_count": 3,
      "outputs": [
        {
          "output_type": "stream",
          "text": [
            "157 ['au', 'aux', 'avec', 'ce', 'ces', 'dans', 'de', 'des', 'du', 'elle', 'en', 'et', 'eux', 'il', 'ils', 'je', 'la', 'le', 'les', 'leur', 'lui', 'ma', 'mais', 'me', 'même', 'mes', 'moi', 'mon', 'ne', 'nos', 'notre', 'nous', 'on', 'ou', 'par', 'pas', 'pour', 'qu', 'que', 'qui', 'sa', 'se', 'ses', 'son', 'sur', 'ta', 'te', 'tes', 'toi', 'ton', 'tu', 'un', 'une', 'vos', 'votre', 'vous', 'c', 'd', 'j', 'l', 'à', 'm', 'n', 's', 't', 'y', 'été', 'étée', 'étées', 'étés', 'étant', 'étante', 'étants', 'étantes', 'suis', 'es', 'est', 'sommes', 'êtes', 'sont', 'serai', 'seras', 'sera', 'serons', 'serez', 'seront', 'serais', 'serait', 'serions', 'seriez', 'seraient', 'étais', 'était', 'étions', 'étiez', 'étaient', 'fus', 'fut', 'fûmes', 'fûtes', 'furent', 'sois', 'soit', 'soyons', 'soyez', 'soient', 'fusse', 'fusses', 'fût', 'fussions', 'fussiez', 'fussent', 'ayant', 'ayante', 'ayantes', 'ayants', 'eu', 'eue', 'eues', 'eus', 'ai', 'as', 'avons', 'avez', 'ont', 'aurai', 'auras', 'aura', 'aurons', 'aurez', 'auront', 'aurais', 'aurait', 'aurions', 'auriez', 'auraient', 'avais', 'avait', 'avions', 'aviez', 'avaient', 'eut', 'eûmes', 'eûtes', 'eurent', 'aie', 'aies', 'ait', 'ayons', 'ayez', 'aient', 'eusse', 'eusses', 'eût', 'eussions', 'eussiez', 'eussent']\n"
          ],
          "name": "stdout"
        }
      ]
    },
    {
      "cell_type": "code",
      "metadata": {
        "id": "oapxMrKAMK2W",
        "outputId": "cacb8f5f-51f9-4aeb-92be-31f4b5d43c56",
        "colab": {
          "base_uri": "https://localhost:8080/",
          "height": 54
        }
      },
      "source": [
        "stop = stopwords.words('german')\n",
        "print(len(stop), stop)"
      ],
      "execution_count": 4,
      "outputs": [
        {
          "output_type": "stream",
          "text": [
            "232 ['aber', 'alle', 'allem', 'allen', 'aller', 'alles', 'als', 'also', 'am', 'an', 'ander', 'andere', 'anderem', 'anderen', 'anderer', 'anderes', 'anderm', 'andern', 'anderr', 'anders', 'auch', 'auf', 'aus', 'bei', 'bin', 'bis', 'bist', 'da', 'damit', 'dann', 'der', 'den', 'des', 'dem', 'die', 'das', 'dass', 'daß', 'derselbe', 'derselben', 'denselben', 'desselben', 'demselben', 'dieselbe', 'dieselben', 'dasselbe', 'dazu', 'dein', 'deine', 'deinem', 'deinen', 'deiner', 'deines', 'denn', 'derer', 'dessen', 'dich', 'dir', 'du', 'dies', 'diese', 'diesem', 'diesen', 'dieser', 'dieses', 'doch', 'dort', 'durch', 'ein', 'eine', 'einem', 'einen', 'einer', 'eines', 'einig', 'einige', 'einigem', 'einigen', 'einiger', 'einiges', 'einmal', 'er', 'ihn', 'ihm', 'es', 'etwas', 'euer', 'eure', 'eurem', 'euren', 'eurer', 'eures', 'für', 'gegen', 'gewesen', 'hab', 'habe', 'haben', 'hat', 'hatte', 'hatten', 'hier', 'hin', 'hinter', 'ich', 'mich', 'mir', 'ihr', 'ihre', 'ihrem', 'ihren', 'ihrer', 'ihres', 'euch', 'im', 'in', 'indem', 'ins', 'ist', 'jede', 'jedem', 'jeden', 'jeder', 'jedes', 'jene', 'jenem', 'jenen', 'jener', 'jenes', 'jetzt', 'kann', 'kein', 'keine', 'keinem', 'keinen', 'keiner', 'keines', 'können', 'könnte', 'machen', 'man', 'manche', 'manchem', 'manchen', 'mancher', 'manches', 'mein', 'meine', 'meinem', 'meinen', 'meiner', 'meines', 'mit', 'muss', 'musste', 'nach', 'nicht', 'nichts', 'noch', 'nun', 'nur', 'ob', 'oder', 'ohne', 'sehr', 'sein', 'seine', 'seinem', 'seinen', 'seiner', 'seines', 'selbst', 'sich', 'sie', 'ihnen', 'sind', 'so', 'solche', 'solchem', 'solchen', 'solcher', 'solches', 'soll', 'sollte', 'sondern', 'sonst', 'über', 'um', 'und', 'uns', 'unsere', 'unserem', 'unseren', 'unser', 'unseres', 'unter', 'viel', 'vom', 'von', 'vor', 'während', 'war', 'waren', 'warst', 'was', 'weg', 'weil', 'weiter', 'welche', 'welchem', 'welchen', 'welcher', 'welches', 'wenn', 'werde', 'werden', 'wie', 'wieder', 'will', 'wir', 'wird', 'wirst', 'wo', 'wollen', 'wollte', 'würde', 'würden', 'zu', 'zum', 'zur', 'zwar', 'zwischen']\n"
          ],
          "name": "stdout"
        }
      ]
    },
    {
      "cell_type": "markdown",
      "metadata": {
        "id": "c4EkIYfLMK2Z"
      },
      "source": [
        "# CMU WORDLIST"
      ]
    },
    {
      "cell_type": "code",
      "metadata": {
        "id": "z6hevoHUMK2a",
        "outputId": "3ad0e30f-e1c8-46ef-84e1-d16a8274f36b",
        "colab": {
          "base_uri": "https://localhost:8080/",
          "height": 1000
        }
      },
      "source": [
        "entries = nltk.corpus.cmudict.entries()\n",
        "len(entries), entries[0:50]"
      ],
      "execution_count": 5,
      "outputs": [
        {
          "output_type": "execute_result",
          "data": {
            "text/plain": [
              "(133737,\n",
              " [('a', ['AH0']),\n",
              "  ('a.', ['EY1']),\n",
              "  ('a', ['EY1']),\n",
              "  ('a42128',\n",
              "   ['EY1',\n",
              "    'F',\n",
              "    'AO1',\n",
              "    'R',\n",
              "    'T',\n",
              "    'UW1',\n",
              "    'W',\n",
              "    'AH1',\n",
              "    'N',\n",
              "    'T',\n",
              "    'UW1',\n",
              "    'EY1',\n",
              "    'T']),\n",
              "  ('aaa', ['T', 'R', 'IH2', 'P', 'AH0', 'L', 'EY1']),\n",
              "  ('aaberg', ['AA1', 'B', 'ER0', 'G']),\n",
              "  ('aachen', ['AA1', 'K', 'AH0', 'N']),\n",
              "  ('aachener', ['AA1', 'K', 'AH0', 'N', 'ER0']),\n",
              "  ('aaker', ['AA1', 'K', 'ER0']),\n",
              "  ('aalseth', ['AA1', 'L', 'S', 'EH0', 'TH']),\n",
              "  ('aamodt', ['AA1', 'M', 'AH0', 'T']),\n",
              "  ('aancor', ['AA1', 'N', 'K', 'AO2', 'R']),\n",
              "  ('aardema', ['AA0', 'R', 'D', 'EH1', 'M', 'AH0']),\n",
              "  ('aardvark', ['AA1', 'R', 'D', 'V', 'AA2', 'R', 'K']),\n",
              "  ('aaron', ['EH1', 'R', 'AH0', 'N']),\n",
              "  (\"aaron's\", ['EH1', 'R', 'AH0', 'N', 'Z']),\n",
              "  ('aarons', ['EH1', 'R', 'AH0', 'N', 'Z']),\n",
              "  ('aaronson', ['EH1', 'R', 'AH0', 'N', 'S', 'AH0', 'N']),\n",
              "  ('aaronson', ['AA1', 'R', 'AH0', 'N', 'S', 'AH0', 'N']),\n",
              "  (\"aaronson's\", ['EH1', 'R', 'AH0', 'N', 'S', 'AH0', 'N', 'Z']),\n",
              "  (\"aaronson's\", ['AA1', 'R', 'AH0', 'N', 'S', 'AH0', 'N', 'Z']),\n",
              "  ('aarti', ['AA1', 'R', 'T', 'IY2']),\n",
              "  ('aase', ['AA1', 'S']),\n",
              "  ('aasen', ['AA1', 'S', 'AH0', 'N']),\n",
              "  ('ab', ['AE1', 'B']),\n",
              "  ('ab', ['EY1', 'B', 'IY1']),\n",
              "  ('ababa', ['AH0', 'B', 'AA1', 'B', 'AH0']),\n",
              "  ('ababa', ['AA1', 'B', 'AH0', 'B', 'AH0']),\n",
              "  ('abacha', ['AE1', 'B', 'AH0', 'K', 'AH0']),\n",
              "  ('aback', ['AH0', 'B', 'AE1', 'K']),\n",
              "  ('abaco', ['AE1', 'B', 'AH0', 'K', 'OW2']),\n",
              "  ('abacus', ['AE1', 'B', 'AH0', 'K', 'AH0', 'S']),\n",
              "  ('abad', ['AH0', 'B', 'AA1', 'D']),\n",
              "  ('abadaka', ['AH0', 'B', 'AE1', 'D', 'AH0', 'K', 'AH0']),\n",
              "  ('abadi', ['AH0', 'B', 'AE1', 'D', 'IY0']),\n",
              "  ('abadie', ['AH0', 'B', 'AE1', 'D', 'IY0']),\n",
              "  ('abair', ['AH0', 'B', 'EH1', 'R']),\n",
              "  ('abalkin', ['AH0', 'B', 'AA1', 'L', 'K', 'IH0', 'N']),\n",
              "  ('abalone', ['AE2', 'B', 'AH0', 'L', 'OW1', 'N', 'IY0']),\n",
              "  ('abalos', ['AA0', 'B', 'AA1', 'L', 'OW0', 'Z']),\n",
              "  ('abandon', ['AH0', 'B', 'AE1', 'N', 'D', 'AH0', 'N']),\n",
              "  ('abandoned', ['AH0', 'B', 'AE1', 'N', 'D', 'AH0', 'N', 'D']),\n",
              "  ('abandoning', ['AH0', 'B', 'AE1', 'N', 'D', 'AH0', 'N', 'IH0', 'NG']),\n",
              "  ('abandonment',\n",
              "   ['AH0', 'B', 'AE1', 'N', 'D', 'AH0', 'N', 'M', 'AH0', 'N', 'T']),\n",
              "  ('abandonments',\n",
              "   ['AH0', 'B', 'AE1', 'N', 'D', 'AH0', 'N', 'M', 'AH0', 'N', 'T', 'S']),\n",
              "  ('abandons', ['AH0', 'B', 'AE1', 'N', 'D', 'AH0', 'N', 'Z']),\n",
              "  ('abanto', ['AH0', 'B', 'AE1', 'N', 'T', 'OW0']),\n",
              "  ('abarca', ['AH0', 'B', 'AA1', 'R', 'K', 'AH0']),\n",
              "  ('abare', ['AA0', 'B', 'AA1', 'R', 'IY0']),\n",
              "  ('abascal', ['AE1', 'B', 'AH0', 'S', 'K', 'AH0', 'L'])])"
            ]
          },
          "metadata": {
            "tags": []
          },
          "execution_count": 5
        }
      ]
    },
    {
      "cell_type": "code",
      "metadata": {
        "id": "Lz1GBJjnMK2j",
        "outputId": "dec8ee5b-3ad2-436c-b8c3-780a10e4c699",
        "colab": {
          "base_uri": "https://localhost:8080/",
          "height": 101
        }
      },
      "source": [
        "entries[5000:5005]"
      ],
      "execution_count": 6,
      "outputs": [
        {
          "output_type": "execute_result",
          "data": {
            "text/plain": [
              "[('approaches', ['AH0', 'P', 'R', 'OW1', 'CH', 'AH0', 'Z']),\n",
              " ('approaches', ['AH0', 'P', 'R', 'OW1', 'CH', 'IH0', 'Z']),\n",
              " ('approaching', ['AH0', 'P', 'R', 'OW1', 'CH', 'IH0', 'NG']),\n",
              " ('approbation', ['AE2', 'P', 'R', 'AH0', 'B', 'EY1', 'SH', 'AH0', 'N']),\n",
              " ('appropriate', ['AH0', 'P', 'R', 'OW1', 'P', 'R', 'IY0', 'AH0', 'T'])]"
            ]
          },
          "metadata": {
            "tags": []
          },
          "execution_count": 6
        }
      ]
    },
    {
      "cell_type": "markdown",
      "metadata": {
        "id": "v3Tw4dJoMK2m"
      },
      "source": [
        "# WORDNET"
      ]
    },
    {
      "cell_type": "code",
      "metadata": {
        "id": "6XHMKYdyMK2o",
        "outputId": "5370f3e7-3ab6-4679-da02-1d99561d00ca",
        "colab": {
          "base_uri": "https://localhost:8080/",
          "height": 34
        }
      },
      "source": [
        "wn.synsets('motorcar')"
      ],
      "execution_count": 7,
      "outputs": [
        {
          "output_type": "execute_result",
          "data": {
            "text/plain": [
              "[Synset('car.n.01')]"
            ]
          },
          "metadata": {
            "tags": []
          },
          "execution_count": 7
        }
      ]
    },
    {
      "cell_type": "code",
      "metadata": {
        "id": "Xgf47PdkMK2q",
        "outputId": "7b341ceb-c472-4cc1-d8c1-097ef02a9e4b",
        "colab": {
          "base_uri": "https://localhost:8080/",
          "height": 470
        }
      },
      "source": [
        "wn.synsets('good')"
      ],
      "execution_count": 8,
      "outputs": [
        {
          "output_type": "execute_result",
          "data": {
            "text/plain": [
              "[Synset('good.n.01'),\n",
              " Synset('good.n.02'),\n",
              " Synset('good.n.03'),\n",
              " Synset('commodity.n.01'),\n",
              " Synset('good.a.01'),\n",
              " Synset('full.s.06'),\n",
              " Synset('good.a.03'),\n",
              " Synset('estimable.s.02'),\n",
              " Synset('beneficial.s.01'),\n",
              " Synset('good.s.06'),\n",
              " Synset('good.s.07'),\n",
              " Synset('adept.s.01'),\n",
              " Synset('good.s.09'),\n",
              " Synset('dear.s.02'),\n",
              " Synset('dependable.s.04'),\n",
              " Synset('good.s.12'),\n",
              " Synset('good.s.13'),\n",
              " Synset('effective.s.04'),\n",
              " Synset('good.s.15'),\n",
              " Synset('good.s.16'),\n",
              " Synset('good.s.17'),\n",
              " Synset('good.s.18'),\n",
              " Synset('good.s.19'),\n",
              " Synset('good.s.20'),\n",
              " Synset('good.s.21'),\n",
              " Synset('well.r.01'),\n",
              " Synset('thoroughly.r.02')]"
            ]
          },
          "metadata": {
            "tags": []
          },
          "execution_count": 8
        }
      ]
    },
    {
      "cell_type": "code",
      "metadata": {
        "id": "__i--nwFMK2t",
        "outputId": "eff922f3-1bc1-48cb-e121-f8dd6e1e5084",
        "colab": {
          "base_uri": "https://localhost:8080/",
          "height": 34
        }
      },
      "source": [
        "wn.synset('car.n.01').lemma_names()"
      ],
      "execution_count": 9,
      "outputs": [
        {
          "output_type": "execute_result",
          "data": {
            "text/plain": [
              "['car', 'auto', 'automobile', 'machine', 'motorcar']"
            ]
          },
          "metadata": {
            "tags": []
          },
          "execution_count": 9
        }
      ]
    },
    {
      "cell_type": "markdown",
      "metadata": {
        "id": "J_31EsjkOA7d"
      },
      "source": [
        "# Comparision of Stemmers and Lemmatizers"
      ]
    },
    {
      "cell_type": "code",
      "metadata": {
        "id": "IyBnW-9BMK2z",
        "outputId": "2e408f96-2518-4ee7-b0ea-ad805478006d",
        "colab": {
          "base_uri": "https://localhost:8080/",
          "height": 35
        }
      },
      "source": [
        "porter = PorterStemmer()\n",
        "porter.stem('happiness')"
      ],
      "execution_count": 10,
      "outputs": [
        {
          "output_type": "execute_result",
          "data": {
            "application/vnd.google.colaboratory.intrinsic+json": {
              "type": "string"
            },
            "text/plain": [
              "'happi'"
            ]
          },
          "metadata": {
            "tags": []
          },
          "execution_count": 10
        }
      ]
    },
    {
      "cell_type": "code",
      "metadata": {
        "id": "KkuZY6BmMK26",
        "outputId": "fe30dff2-7193-4e45-ca08-75d4a03dc3ef",
        "colab": {
          "base_uri": "https://localhost:8080/",
          "height": 35
        }
      },
      "source": [
        "lanc = LancasterStemmer()\n",
        "lanc.stem('happiness')"
      ],
      "execution_count": 11,
      "outputs": [
        {
          "output_type": "execute_result",
          "data": {
            "application/vnd.google.colaboratory.intrinsic+json": {
              "type": "string"
            },
            "text/plain": [
              "'happy'"
            ]
          },
          "metadata": {
            "tags": []
          },
          "execution_count": 11
        }
      ]
    },
    {
      "cell_type": "code",
      "metadata": {
        "id": "174amCvVMK3B",
        "outputId": "1b0b6410-c1ea-4e81-84ee-39700692cfa9",
        "colab": {
          "base_uri": "https://localhost:8080/",
          "height": 302
        }
      },
      "source": [
        "len(SnowballStemmer.languages), SnowballStemmer.languages"
      ],
      "execution_count": 12,
      "outputs": [
        {
          "output_type": "execute_result",
          "data": {
            "text/plain": [
              "(16,\n",
              " ('arabic',\n",
              "  'danish',\n",
              "  'dutch',\n",
              "  'english',\n",
              "  'finnish',\n",
              "  'french',\n",
              "  'german',\n",
              "  'hungarian',\n",
              "  'italian',\n",
              "  'norwegian',\n",
              "  'porter',\n",
              "  'portuguese',\n",
              "  'romanian',\n",
              "  'russian',\n",
              "  'spanish',\n",
              "  'swedish'))"
            ]
          },
          "metadata": {
            "tags": []
          },
          "execution_count": 12
        }
      ]
    },
    {
      "cell_type": "code",
      "metadata": {
        "id": "JPZu0P0WMK3E"
      },
      "source": [
        "snowball = SnowballStemmer('french')"
      ],
      "execution_count": 13,
      "outputs": []
    },
    {
      "cell_type": "code",
      "metadata": {
        "id": "cUNTMcE_MK3G",
        "outputId": "71cf1e3c-4298-40f9-b8ad-e989c9709098",
        "colab": {
          "base_uri": "https://localhost:8080/",
          "height": 35
        }
      },
      "source": [
        "snowball.stem('bonheur')"
      ],
      "execution_count": 14,
      "outputs": [
        {
          "output_type": "execute_result",
          "data": {
            "application/vnd.google.colaboratory.intrinsic+json": {
              "type": "string"
            },
            "text/plain": [
              "'bonheur'"
            ]
          },
          "metadata": {
            "tags": []
          },
          "execution_count": 14
        }
      ]
    },
    {
      "cell_type": "code",
      "metadata": {
        "id": "cilg_c5VMK3L",
        "outputId": "3c8bfb66-b9e0-41b1-f02a-a1356a9d23f3",
        "colab": {
          "base_uri": "https://localhost:8080/",
          "height": 34
        }
      },
      "source": [
        "text = \"A quick brown fox jumps over a lazy dog\"\n",
        "example1 = [porter.stem(token) for token in text.split(\" \")]\n",
        "print(\" \".join(example1))"
      ],
      "execution_count": 15,
      "outputs": [
        {
          "output_type": "stream",
          "text": [
            "A quick brown fox jump over a lazi dog\n"
          ],
          "name": "stdout"
        }
      ]
    },
    {
      "cell_type": "code",
      "metadata": {
        "id": "BJLeM7kAMK3N",
        "outputId": "13386808-affd-4f70-dea9-d535a3a19153",
        "colab": {
          "base_uri": "https://localhost:8080/",
          "height": 34
        }
      },
      "source": [
        "example2 = [lanc.stem(token) for token in text.split(\" \")]\n",
        "print(\" \".join(example2))"
      ],
      "execution_count": 16,
      "outputs": [
        {
          "output_type": "stream",
          "text": [
            "a quick brown fox jump ov a lazy dog\n"
          ],
          "name": "stdout"
        }
      ]
    },
    {
      "cell_type": "code",
      "metadata": {
        "id": "gzjSM-fRMK3R",
        "outputId": "ba6ae8d3-dc72-406c-be1e-4e4ffa29a6f3",
        "colab": {
          "base_uri": "https://localhost:8080/",
          "height": 34
        }
      },
      "source": [
        "example3 = [snowball.stem(token) for token in text.split(\" \")]\n",
        "print(\" \".join(example3))"
      ],
      "execution_count": 17,
      "outputs": [
        {
          "output_type": "stream",
          "text": [
            "a quick brown fox jump over a lazy dog\n"
          ],
          "name": "stdout"
        }
      ]
    },
    {
      "cell_type": "markdown",
      "metadata": {
        "id": "U8l_pyLQOfIY"
      },
      "source": [
        "# Lemmatizer"
      ]
    },
    {
      "cell_type": "code",
      "metadata": {
        "id": "qYU0rhQ4MK3V",
        "outputId": "29325d82-cb3a-4ffe-e1e4-f09faaeb3ee0",
        "colab": {
          "base_uri": "https://localhost:8080/",
          "height": 34
        }
      },
      "source": [
        "lemmatizer = WordNetLemmatizer()\n",
        "print(lemmatizer.lemmatize('radii'))"
      ],
      "execution_count": 18,
      "outputs": [
        {
          "output_type": "stream",
          "text": [
            "radius\n"
          ],
          "name": "stdout"
        }
      ]
    },
    {
      "cell_type": "code",
      "metadata": {
        "id": "aP_tJ_n_MK3X",
        "outputId": "058e2d5c-724e-4f27-fc20-6c5081aafd17",
        "colab": {
          "base_uri": "https://localhost:8080/",
          "height": 35
        }
      },
      "source": [
        "lemmatizer.lemmatize('better', pos = 'a' )"
      ],
      "execution_count": 19,
      "outputs": [
        {
          "output_type": "execute_result",
          "data": {
            "application/vnd.google.colaboratory.intrinsic+json": {
              "type": "string"
            },
            "text/plain": [
              "'good'"
            ]
          },
          "metadata": {
            "tags": []
          },
          "execution_count": 19
        }
      ]
    },
    {
      "cell_type": "code",
      "metadata": {
        "id": "YzkfG_90MK3a",
        "outputId": "e655af93-d850-4dc2-dec1-3aca5f8a6b6f",
        "colab": {
          "base_uri": "https://localhost:8080/",
          "height": 35
        }
      },
      "source": [
        "lemmatizer.lemmatize('am', pos = 'v' )"
      ],
      "execution_count": 20,
      "outputs": [
        {
          "output_type": "execute_result",
          "data": {
            "application/vnd.google.colaboratory.intrinsic+json": {
              "type": "string"
            },
            "text/plain": [
              "'be'"
            ]
          },
          "metadata": {
            "tags": []
          },
          "execution_count": 20
        }
      ]
    },
    {
      "cell_type": "markdown",
      "metadata": {
        "id": "4qN4AD2oOw-Z"
      },
      "source": [
        "# Jieba"
      ]
    },
    {
      "cell_type": "code",
      "metadata": {
        "id": "tN8IcRknMK3e",
        "outputId": "4c5944e5-8b98-42e1-d98e-588d8570dc82",
        "colab": {
          "base_uri": "https://localhost:8080/",
          "height": 101
        }
      },
      "source": [
        "import jieba\n",
        "seg = jieba.cut('一只快速的棕色狐狸跳过了一只懒狗', cut_all = True) # 'A quick brown fox jumps over a lazy dog' in chinese\n",
        "print(\" \".join(seg))"
      ],
      "execution_count": 21,
      "outputs": [
        {
          "output_type": "stream",
          "text": [
            "Building prefix dict from the default dictionary ...\n",
            "Loading model from cache /tmp/jieba.cache\n",
            "Loading model cost 0.803 seconds.\n",
            "Prefix dict has been built successfully.\n"
          ],
          "name": "stderr"
        },
        {
          "output_type": "stream",
          "text": [
            "一只 快速 的 棕色 狐狸 跳 过 了 一只 懒 狗\n"
          ],
          "name": "stdout"
        }
      ]
    }
  ]
}