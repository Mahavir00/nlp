{
  "nbformat": 4,
  "nbformat_minor": 0,
  "metadata": {
    "kernelspec": {
      "display_name": "Python 3",
      "language": "python",
      "name": "python3"
    },
    "language_info": {
      "codemirror_mode": {
        "name": "ipython",
        "version": 3
      },
      "file_extension": ".py",
      "mimetype": "text/x-python",
      "name": "python",
      "nbconvert_exporter": "python",
      "pygments_lexer": "ipython3",
      "version": "3.7.3"
    },
    "colab": {
      "name": "Hands_On_4.ipynb",
      "provenance": []
    }
  },
  "cells": [
    {
      "cell_type": "markdown",
      "metadata": {
        "id": "097dlSL9w_LS"
      },
      "source": [
        "# Imports"
      ]
    },
    {
      "cell_type": "code",
      "metadata": {
        "id": "Z4isAEY8w6WD",
        "outputId": "b6fa5d3e-1d03-41ef-eb96-7758429c8ae9",
        "colab": {
          "base_uri": "https://localhost:8080/",
          "height": 52
        }
      },
      "source": [
        "import nltk\n",
        "from nltk.corpus import stopwords\n",
        "nltk.download('names')\n",
        "from nltk.corpus import names\n",
        "import random\n",
        "from sklearn.feature_extraction.text import CountVectorizer\n",
        "from sklearn.metrics.pairwise import cosine_similarity"
      ],
      "execution_count": 1,
      "outputs": [
        {
          "output_type": "stream",
          "text": [
            "[nltk_data] Downloading package names to /root/nltk_data...\n",
            "[nltk_data]   Package names is already up-to-date!\n"
          ],
          "name": "stdout"
        }
      ]
    },
    {
      "cell_type": "markdown",
      "metadata": {
        "id": "E5rEnFNK16Qj"
      },
      "source": [
        "# Exploring Names Corpus"
      ]
    },
    {
      "cell_type": "code",
      "metadata": {
        "id": "gxPPDUlBw6WI"
      },
      "source": [
        "def gender_features(word):\n",
        "    return{'last_letter':word[-1]}"
      ],
      "execution_count": 2,
      "outputs": []
    },
    {
      "cell_type": "code",
      "metadata": {
        "id": "CB1sQmsYw6WN",
        "outputId": "88e07177-c31e-411a-f412-adcfee0dc936",
        "colab": {
          "base_uri": "https://localhost:8080/",
          "height": 0
        }
      },
      "source": [
        "print(len(names.words()), names.words()[50:100])"
      ],
      "execution_count": 3,
      "outputs": [
        {
          "output_type": "stream",
          "text": [
            "7944 ['Aeriell', 'Ag', 'Agace', 'Agata', 'Agatha', 'Agathe', 'Aggi', 'Aggie', 'Aggy', 'Agna', 'Agnella', 'Agnes', 'Agnese', 'Agnesse', 'Agneta', 'Agnola', 'Agretha', 'Aida', 'Aidan', 'Aigneis', 'Aila', 'Aile', 'Ailee', 'Aileen', 'Ailene', 'Ailey', 'Aili', 'Ailina', 'Ailyn', 'Aime', 'Aimee', 'Aimil', 'Aina', 'Aindrea', 'Ainslee', 'Ainsley', 'Ainslie', 'Ajay', 'Alaine', 'Alameda', 'Alana', 'Alanah', 'Alane', 'Alanna', 'Alayne', 'Alberta', 'Albertina', 'Albertine', 'Albina', 'Alecia']\n"
          ],
          "name": "stdout"
        }
      ]
    },
    {
      "cell_type": "code",
      "metadata": {
        "id": "PlXpPGRXw6WT",
        "outputId": "5aeb6dad-13af-4210-dd52-c62455812456",
        "colab": {
          "base_uri": "https://localhost:8080/",
          "height": 0
        }
      },
      "source": [
        "labeled_names = [(name, 'male') for name in names.words('male.txt')] + [(name, 'female') for name in names.words('female.txt')]\n",
        "print(labeled_names[:50])"
      ],
      "execution_count": 4,
      "outputs": [
        {
          "output_type": "stream",
          "text": [
            "[('Aamir', 'male'), ('Aaron', 'male'), ('Abbey', 'male'), ('Abbie', 'male'), ('Abbot', 'male'), ('Abbott', 'male'), ('Abby', 'male'), ('Abdel', 'male'), ('Abdul', 'male'), ('Abdulkarim', 'male'), ('Abdullah', 'male'), ('Abe', 'male'), ('Abel', 'male'), ('Abelard', 'male'), ('Abner', 'male'), ('Abraham', 'male'), ('Abram', 'male'), ('Ace', 'male'), ('Adair', 'male'), ('Adam', 'male'), ('Adams', 'male'), ('Addie', 'male'), ('Adger', 'male'), ('Aditya', 'male'), ('Adlai', 'male'), ('Adnan', 'male'), ('Adolf', 'male'), ('Adolfo', 'male'), ('Adolph', 'male'), ('Adolphe', 'male'), ('Adolpho', 'male'), ('Adolphus', 'male'), ('Adrian', 'male'), ('Adrick', 'male'), ('Adrien', 'male'), ('Agamemnon', 'male'), ('Aguinaldo', 'male'), ('Aguste', 'male'), ('Agustin', 'male'), ('Aharon', 'male'), ('Ahmad', 'male'), ('Ahmed', 'male'), ('Ahmet', 'male'), ('Ajai', 'male'), ('Ajay', 'male'), ('Al', 'male'), ('Alaa', 'male'), ('Alain', 'male'), ('Alan', 'male'), ('Alasdair', 'male')]\n"
          ],
          "name": "stdout"
        }
      ]
    },
    {
      "cell_type": "code",
      "metadata": {
        "id": "D8ZOBaeQw6WZ",
        "outputId": "401f2730-fcf7-4658-c5f3-39811048e0ae",
        "colab": {
          "base_uri": "https://localhost:8080/",
          "height": 0
        }
      },
      "source": [
        "random.shuffle(labeled_names)\n",
        "print(labeled_names[:50])"
      ],
      "execution_count": 5,
      "outputs": [
        {
          "output_type": "stream",
          "text": [
            "[('Keefe', 'male'), ('Fowler', 'male'), ('Willie', 'female'), ('Zechariah', 'male'), ('Deanna', 'female'), ('Whittaker', 'male'), ('Roddy', 'male'), ('Joslyn', 'female'), ('Carolie', 'female'), ('Rudyard', 'male'), ('Ephraim', 'male'), ('Pauly', 'female'), ('Teddi', 'female'), ('Danni', 'female'), ('Teresa', 'female'), ('Tyne', 'female'), ('Florry', 'female'), ('Idelle', 'female'), ('Pattie', 'female'), ('Harwell', 'male'), ('Niels', 'male'), ('Gustavo', 'male'), ('Phaidra', 'female'), ('Nikolia', 'female'), ('Ottilie', 'female'), ('Demetra', 'female'), ('Sadie', 'female'), ('Lizette', 'female'), ('Judas', 'male'), ('Mercedes', 'female'), ('Teodoro', 'male'), ('Waldo', 'male'), ('Esmerelda', 'female'), ('Dorolice', 'female'), ('Lyle', 'male'), ('Moyra', 'female'), ('Amberly', 'female'), ('Jessika', 'female'), ('Sunny', 'male'), ('Glad', 'female'), ('Martainn', 'male'), ('Aurea', 'female'), ('Ronny', 'male'), ('Mair', 'female'), ('Florian', 'male'), ('Clareta', 'female'), ('Lindsay', 'male'), ('Becka', 'female'), ('Belinda', 'female'), ('Jonny', 'male')]\n"
          ],
          "name": "stdout"
        }
      ]
    },
    {
      "cell_type": "code",
      "metadata": {
        "id": "7hU34Rtlw6We",
        "outputId": "a8b9381d-3396-4648-c3f7-6adf957274a0",
        "colab": {
          "base_uri": "https://localhost:8080/",
          "height": 0
        }
      },
      "source": [
        "featureset = [(gender_features(n),gender) for (n,gender) in labeled_names]\n",
        "print(featureset[:50])"
      ],
      "execution_count": 6,
      "outputs": [
        {
          "output_type": "stream",
          "text": [
            "[({'last_letter': 'e'}, 'male'), ({'last_letter': 'r'}, 'male'), ({'last_letter': 'e'}, 'female'), ({'last_letter': 'h'}, 'male'), ({'last_letter': 'a'}, 'female'), ({'last_letter': 'r'}, 'male'), ({'last_letter': 'y'}, 'male'), ({'last_letter': 'n'}, 'female'), ({'last_letter': 'e'}, 'female'), ({'last_letter': 'd'}, 'male'), ({'last_letter': 'm'}, 'male'), ({'last_letter': 'y'}, 'female'), ({'last_letter': 'i'}, 'female'), ({'last_letter': 'i'}, 'female'), ({'last_letter': 'a'}, 'female'), ({'last_letter': 'e'}, 'female'), ({'last_letter': 'y'}, 'female'), ({'last_letter': 'e'}, 'female'), ({'last_letter': 'e'}, 'female'), ({'last_letter': 'l'}, 'male'), ({'last_letter': 's'}, 'male'), ({'last_letter': 'o'}, 'male'), ({'last_letter': 'a'}, 'female'), ({'last_letter': 'a'}, 'female'), ({'last_letter': 'e'}, 'female'), ({'last_letter': 'a'}, 'female'), ({'last_letter': 'e'}, 'female'), ({'last_letter': 'e'}, 'female'), ({'last_letter': 's'}, 'male'), ({'last_letter': 's'}, 'female'), ({'last_letter': 'o'}, 'male'), ({'last_letter': 'o'}, 'male'), ({'last_letter': 'a'}, 'female'), ({'last_letter': 'e'}, 'female'), ({'last_letter': 'e'}, 'male'), ({'last_letter': 'a'}, 'female'), ({'last_letter': 'y'}, 'female'), ({'last_letter': 'a'}, 'female'), ({'last_letter': 'y'}, 'male'), ({'last_letter': 'd'}, 'female'), ({'last_letter': 'n'}, 'male'), ({'last_letter': 'a'}, 'female'), ({'last_letter': 'y'}, 'male'), ({'last_letter': 'r'}, 'female'), ({'last_letter': 'n'}, 'male'), ({'last_letter': 'a'}, 'female'), ({'last_letter': 'y'}, 'male'), ({'last_letter': 'a'}, 'female'), ({'last_letter': 'a'}, 'female'), ({'last_letter': 'y'}, 'male')]\n"
          ],
          "name": "stdout"
        }
      ]
    },
    {
      "cell_type": "code",
      "metadata": {
        "id": "RNyEOzV9w6Wj",
        "outputId": "ae0f69cf-bf25-4737-e44e-080c8e3b8bfc",
        "colab": {
          "base_uri": "https://localhost:8080/",
          "height": 0
        }
      },
      "source": [
        "train_set,test_set = featureset[:5500],featureset[5501:]\n",
        "print(test_set[:50])"
      ],
      "execution_count": 7,
      "outputs": [
        {
          "output_type": "stream",
          "text": [
            "[({'last_letter': 'y'}, 'female'), ({'last_letter': 'y'}, 'male'), ({'last_letter': 'p'}, 'male'), ({'last_letter': 'a'}, 'female'), ({'last_letter': 'e'}, 'female'), ({'last_letter': 'd'}, 'male'), ({'last_letter': 'y'}, 'female'), ({'last_letter': 'n'}, 'male'), ({'last_letter': 'y'}, 'female'), ({'last_letter': 's'}, 'male'), ({'last_letter': 'e'}, 'female'), ({'last_letter': 'y'}, 'female'), ({'last_letter': 'e'}, 'male'), ({'last_letter': 'd'}, 'male'), ({'last_letter': 'n'}, 'female'), ({'last_letter': 'e'}, 'female'), ({'last_letter': 'n'}, 'male'), ({'last_letter': 'e'}, 'female'), ({'last_letter': 'a'}, 'female'), ({'last_letter': 'o'}, 'male'), ({'last_letter': 'l'}, 'female'), ({'last_letter': 'a'}, 'female'), ({'last_letter': 'e'}, 'male'), ({'last_letter': 'n'}, 'male'), ({'last_letter': 'e'}, 'female'), ({'last_letter': 'e'}, 'female'), ({'last_letter': 'e'}, 'female'), ({'last_letter': 'e'}, 'female'), ({'last_letter': 'n'}, 'male'), ({'last_letter': 'a'}, 'female'), ({'last_letter': 'm'}, 'male'), ({'last_letter': 'l'}, 'male'), ({'last_letter': 'e'}, 'male'), ({'last_letter': 'a'}, 'female'), ({'last_letter': 's'}, 'male'), ({'last_letter': 'e'}, 'female'), ({'last_letter': 'n'}, 'male'), ({'last_letter': 'l'}, 'male'), ({'last_letter': 's'}, 'female'), ({'last_letter': 'i'}, 'male'), ({'last_letter': 'a'}, 'female'), ({'last_letter': 'y'}, 'female'), ({'last_letter': 'n'}, 'male'), ({'last_letter': 'a'}, 'female'), ({'last_letter': 'y'}, 'female'), ({'last_letter': 'n'}, 'male'), ({'last_letter': 'e'}, 'female'), ({'last_letter': 'a'}, 'female'), ({'last_letter': 'l'}, 'male'), ({'last_letter': 'd'}, 'male')]\n"
          ],
          "name": "stdout"
        }
      ]
    },
    {
      "cell_type": "markdown",
      "metadata": {
        "id": "iRXB-IL-2GsI"
      },
      "source": [
        "# Using NLTK Naive Bayes to classify names corpus"
      ]
    },
    {
      "cell_type": "code",
      "metadata": {
        "id": "qGkMmdq1w6Wn",
        "outputId": "c141debe-f8ea-4bc9-ea96-8a0f54a9e70f",
        "colab": {
          "base_uri": "https://localhost:8080/",
          "height": 0
        }
      },
      "source": [
        "classifier = nltk.NaiveBayesClassifier.train(train_set)\n",
        "classifier.classify(gender_features('Mahavir'))"
      ],
      "execution_count": 8,
      "outputs": [
        {
          "output_type": "execute_result",
          "data": {
            "application/vnd.google.colaboratory.intrinsic+json": {
              "type": "string"
            },
            "text/plain": [
              "'male'"
            ]
          },
          "metadata": {
            "tags": []
          },
          "execution_count": 8
        }
      ]
    },
    {
      "cell_type": "code",
      "metadata": {
        "id": "rqh8PUHKw6Ws",
        "outputId": "c9afa4c7-ad0e-450f-c901-57992faae556",
        "colab": {
          "base_uri": "https://localhost:8080/",
          "height": 0
        }
      },
      "source": [
        "classifier.classify(gender_features('Zil'))"
      ],
      "execution_count": 9,
      "outputs": [
        {
          "output_type": "execute_result",
          "data": {
            "application/vnd.google.colaboratory.intrinsic+json": {
              "type": "string"
            },
            "text/plain": [
              "'male'"
            ]
          },
          "metadata": {
            "tags": []
          },
          "execution_count": 9
        }
      ]
    },
    {
      "cell_type": "code",
      "metadata": {
        "id": "7zv1byftw6Wu",
        "outputId": "e7243798-27ce-4dfb-96b6-e622a95ffeeb",
        "colab": {
          "base_uri": "https://localhost:8080/",
          "height": 0
        }
      },
      "source": [
        "classifier.classify(gender_features('Bhavya'))"
      ],
      "execution_count": 10,
      "outputs": [
        {
          "output_type": "execute_result",
          "data": {
            "application/vnd.google.colaboratory.intrinsic+json": {
              "type": "string"
            },
            "text/plain": [
              "'female'"
            ]
          },
          "metadata": {
            "tags": []
          },
          "execution_count": 10
        }
      ]
    },
    {
      "cell_type": "code",
      "metadata": {
        "id": "qez0_jOww6Wz",
        "outputId": "ef730300-60da-4b33-a5a7-611eac750df5",
        "colab": {
          "base_uri": "https://localhost:8080/",
          "height": 0
        }
      },
      "source": [
        "nltk.classify.accuracy(classifier,test_set)"
      ],
      "execution_count": 11,
      "outputs": [
        {
          "output_type": "execute_result",
          "data": {
            "text/plain": [
              "0.7560376586164552"
            ]
          },
          "metadata": {
            "tags": []
          },
          "execution_count": 11
        }
      ]
    },
    {
      "cell_type": "markdown",
      "metadata": {
        "id": "Fb4G-y712I4F"
      },
      "source": [
        "# Exploring sklearn vectorizer and similarity functions"
      ]
    },
    {
      "cell_type": "code",
      "metadata": {
        "id": "G1rfigyLw6W5"
      },
      "source": [
        "corpus =  [\"Natural language processing (NLP) is a subfield of linguistics, computer science, and artificial intelligence concerned with the interactions between computers and human language, in particular how to program computers to process and analyze large amounts of natural language data.\",\n",
        "           '''Natural language processing has its roots in the 1950s. Already in 1950, Alan Turing published an article titled \"Computing Machinery and Intelligence\" which proposed what is now called the Turing test as a criterion of intelligence, a task that involves the automated interpretation and generation of natural language, but at the time not articulated as a problem separate from artificial intelligence.''']\n",
        "vect = CountVectorizer(binary=True).fit(corpus)"
      ],
      "execution_count": 12,
      "outputs": []
    },
    {
      "cell_type": "code",
      "metadata": {
        "id": "EGn9Zq2Mw6W9",
        "outputId": "a2033057-58be-4128-ad38-71722e109609",
        "colab": {
          "base_uri": "https://localhost:8080/",
          "height": 55
        }
      },
      "source": [
        "vocab = vect.vocabulary_\n",
        "print(vocab)"
      ],
      "execution_count": 13,
      "outputs": [
        {
          "output_type": "stream",
          "text": [
            "{'natural': 39, 'language': 35, 'processing': 47, 'nlp': 40, 'is': 33, 'subfield': 54, 'of': 43, 'linguistics': 37, 'computer': 17, 'science': 52, 'and': 7, 'artificial': 10, 'intelligence': 29, 'concerned': 20, 'with': 65, 'the': 58, 'interactions': 30, 'between': 14, 'computers': 18, 'human': 27, 'in': 28, 'particular': 44, 'how': 26, 'to': 61, 'program': 48, 'process': 46, 'analyze': 6, 'large': 36, 'amounts': 4, 'data': 22, 'has': 25, 'its': 34, 'roots': 51, '1950s': 1, 'already': 3, '1950': 0, 'alan': 2, 'turing': 62, 'published': 50, 'an': 5, 'article': 8, 'titled': 60, 'computing': 19, 'machinery': 38, 'which': 64, 'proposed': 49, 'what': 63, 'now': 42, 'called': 16, 'test': 56, 'as': 11, 'criterion': 21, 'task': 55, 'that': 57, 'involves': 32, 'automated': 13, 'interpretation': 31, 'generation': 24, 'but': 15, 'at': 12, 'time': 59, 'not': 41, 'articulated': 9, 'problem': 45, 'separate': 53, 'from': 23}\n"
          ],
          "name": "stdout"
        }
      ]
    },
    {
      "cell_type": "code",
      "metadata": {
        "id": "t7E6aO89w6XC",
        "outputId": "cd61ea83-d22f-4710-b829-0c6786e68bf1",
        "colab": {
          "base_uri": "https://localhost:8080/",
          "height": 70
        }
      },
      "source": [
        "vect.transform([\"The history of natural language processing describes the advances of natural language processing. There is some overlap with the history of machine translation, the history of speech recognition, and the history of artificial intelligence.\"]).toarray()"
      ],
      "execution_count": 14,
      "outputs": [
        {
          "output_type": "execute_result",
          "data": {
            "text/plain": [
              "array([[0, 0, 0, 0, 0, 0, 0, 1, 0, 0, 1, 0, 0, 0, 0, 0, 0, 0, 0, 0, 0, 0,\n",
              "        0, 0, 0, 0, 0, 0, 0, 1, 0, 0, 0, 1, 0, 1, 0, 0, 0, 1, 0, 0, 0, 1,\n",
              "        0, 0, 0, 1, 0, 0, 0, 0, 0, 0, 0, 0, 0, 0, 1, 0, 0, 0, 0, 0, 0, 1]])"
            ]
          },
          "metadata": {
            "tags": []
          },
          "execution_count": 14
        }
      ]
    },
    {
      "cell_type": "code",
      "metadata": {
        "id": "SHRKdGRqw6XE",
        "outputId": "4fa8b43f-bf3f-443b-e4ef-247b04e26578",
        "colab": {
          "base_uri": "https://localhost:8080/",
          "height": 35
        }
      },
      "source": [
        "corpus2 = [\"Mahavir Gala can sit in front of a pc for 20 hours a day.\",\"Mahavir Gala cannot sit in front of a TV for 15 minutes a day\"]\n",
        "vect2 = CountVectorizer(binary=True).fit_transform(corpus2)\n",
        "vect2 = vect2.toarray()\n",
        "similarity = cosine_similarity(vect2)\n",
        "print(similarity[0][1])"
      ],
      "execution_count": 15,
      "outputs": [
        {
          "output_type": "stream",
          "text": [
            "0.6666666666666669\n"
          ],
          "name": "stdout"
        }
      ]
    }
  ]
}